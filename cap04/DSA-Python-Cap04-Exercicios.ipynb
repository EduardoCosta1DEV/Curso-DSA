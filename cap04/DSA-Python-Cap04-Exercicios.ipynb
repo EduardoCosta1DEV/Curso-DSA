{
 "cells": [
  {
   "cell_type": "markdown",
   "metadata": {},
   "source": [
    "# <font color='blue'>Data Science Academy</font>\n",
    "\n",
    "## <font color='blue'>Fundamentos de Linguagem Python Para Análise de Dados e Data Science</font>\n",
    "\n",
    "## <font color='blue'>Capítulo 4 - Exercícios</font>"
   ]
  },
  {
   "cell_type": "code",
   "execution_count": 1,
   "metadata": {},
   "outputs": [
    {
     "name": "stdout",
     "output_type": "stream",
     "text": [
      "Versão da Linguagem Python Usada Neste Jupyter Notebook: 3.8.8\n"
     ]
    }
   ],
   "source": [
    "# Versão da Linguagem Python\n",
    "from platform import python_version\n",
    "print('Versão da Linguagem Python Usada Neste Jupyter Notebook:', python_version())"
   ]
  },
  {
   "cell_type": "markdown",
   "metadata": {},
   "source": [
    "## Exercícios "
   ]
  },
  {
   "cell_type": "code",
   "execution_count": 2,
   "metadata": {},
   "outputs": [],
   "source": [
    "# Exercício 1 - Imprima na tela os números de 1 a 10. Use uma lista para armazenar os números."
   ]
  },
  {
   "cell_type": "code",
   "execution_count": 2,
   "metadata": {},
   "outputs": [
    {
     "name": "stdin",
     "output_type": "stream",
     "text": [
      "Digite o 1º número:  1\n",
      "Digite o 2º número:  2\n",
      "Digite o 3º número:  3\n",
      "Digite o 4º número:  4\n",
      "Digite o 5º número:  5\n",
      "Digite o 6º número:  6\n",
      "Digite o 7º número:  7\n",
      "Digite o 8º número:  8\n",
      "Digite o 9º número:  9\n",
      "Digite o 10º número:  10\n"
     ]
    },
    {
     "name": "stdout",
     "output_type": "stream",
     "text": [
      "[1, 2, 3, 4, 5, 6, 7, 8, 9, 10]\n"
     ]
    }
   ],
   "source": [
    "lista = []\n",
    "\n",
    "for i in range (10) :\n",
    "\n",
    "    numeros = int(input(f\"Digite o {i+1}º número: \"))\n",
    "\n",
    "    lista.append(numeros)\n",
    "\n",
    "print(lista)\n"
   ]
  },
  {
   "cell_type": "code",
   "execution_count": 3,
   "metadata": {},
   "outputs": [],
   "source": [
    "# Exercício 2 - Crie uma lista de 5 objetos e imprima na tela"
   ]
  },
  {
   "cell_type": "code",
   "execution_count": 4,
   "metadata": {},
   "outputs": [
    {
     "name": "stdin",
     "output_type": "stream",
     "text": [
      "Digite seu 1º objetos d\n",
      "Digite seu 2º objetos d\n",
      "Digite seu 3º objetos d\n",
      "Digite seu 4º objetos d\n",
      "Digite seu 5º objetos d\n"
     ]
    },
    {
     "name": "stdout",
     "output_type": "stream",
     "text": [
      "['d', 'd', 'd', 'd', 'd']\n"
     ]
    }
   ],
   "source": [
    "lista2 = []\n",
    "\n",
    "for i in range (5):\n",
    "    objetos = input(f\"Digite seu {i+1}º objeto\")\n",
    "\n",
    "    lista2.append(objetos)\n",
    "print(lista2)"
   ]
  },
  {
   "cell_type": "code",
   "execution_count": 4,
   "metadata": {},
   "outputs": [],
   "source": [
    "# Exercício 3 - Crie duas strings e concatene as duas em uma terceira string"
   ]
  },
  {
   "cell_type": "code",
   "execution_count": 7,
   "metadata": {},
   "outputs": [
    {
     "name": "stdin",
     "output_type": "stream",
     "text": [
      "Digite sua 1ª string passaro\n",
      "Digite sua 2ª string voar\n"
     ]
    },
    {
     "name": "stdout",
     "output_type": "stream",
     "text": [
      "passaro voar\n"
     ]
    }
   ],
   "source": [
    "lista = []\n",
    "\n",
    "for i in range(2):\n",
    "    p = input(f\"Digite sua {i+1}ª string\")\n",
    "    lista.append(p)\n",
    "\n",
    "conca = lista[0] +\" \"+ lista[1]\n",
    "print(conca)"
   ]
  },
  {
   "cell_type": "code",
   "execution_count": 5,
   "metadata": {},
   "outputs": [],
   "source": [
    "# Exercício 4 - Crie uma tupla com os seguintes elementos: 1, 2, 2, 3, 4, 4, 4, 5 e depois utilize a função count do \n",
    "# objeto tupla para verificar quantas vezes o número 4 aparece na tupla"
   ]
  },
  {
   "cell_type": "code",
   "execution_count": 8,
   "metadata": {},
   "outputs": [
    {
     "data": {
      "text/plain": [
       "3"
      ]
     },
     "execution_count": 8,
     "metadata": {},
     "output_type": "execute_result"
    }
   ],
   "source": [
    "tupla = (1, 2, 2, 3, 4, 4, 4, 5)\n",
    "\n",
    "tupla.count(4)"
   ]
  },
  {
   "cell_type": "code",
   "execution_count": 6,
   "metadata": {},
   "outputs": [],
   "source": [
    "# Exercício 5 - Crie um dicionário vazio e imprima na tela"
   ]
  },
  {
   "cell_type": "code",
   "execution_count": 9,
   "metadata": {},
   "outputs": [
    {
     "name": "stdout",
     "output_type": "stream",
     "text": [
      "{}\n"
     ]
    }
   ],
   "source": [
    "dict = {}\n",
    "print(dict)"
   ]
  },
  {
   "cell_type": "code",
   "execution_count": 7,
   "metadata": {},
   "outputs": [],
   "source": [
    "# Exercício 6 - Crie um dicionário com 3 chaves e 3 valores e imprima na tela"
   ]
  },
  {
   "cell_type": "code",
   "execution_count": 11,
   "metadata": {},
   "outputs": [
    {
     "name": "stdin",
     "output_type": "stream",
     "text": [
      "\n",
      "Digite a chave 1:  dudu\n",
      "Digite o valor para 'dudu': 20\n",
      "\n",
      "Digite a chave 2:  bruno\n",
      "Digite o valor para 'bruno': 40\n",
      "\n",
      "Digite a chave 3:  suelene\n",
      "Digite o valor para 'suelene': 43\n"
     ]
    },
    {
     "name": "stdout",
     "output_type": "stream",
     "text": [
      "{'dudu': '20', 'bruno': '40', 'suelene': '43'}\n"
     ]
    }
   ],
   "source": [
    "dicionario = {}\n",
    "\n",
    "for i in range(3):\n",
    "    chave = input(f\"\\nDigite a chave {i+1}: \")\n",
    "    valor = input(f\"Digite o valor para '{chave}':\")\n",
    "\n",
    "    dicionario[chave] = valor\n",
    "print (dicionario)"
   ]
  },
  {
   "cell_type": "code",
   "execution_count": 8,
   "metadata": {},
   "outputs": [],
   "source": [
    "# Exercício 7 - Adicione mais um elemento ao dicionário criado no exercício anterior e imprima na tela"
   ]
  },
  {
   "cell_type": "code",
   "execution_count": 12,
   "metadata": {},
   "outputs": [
    {
     "name": "stdout",
     "output_type": "stream",
     "text": [
      "{'dudu': '20', 'bruno': '40', 'suelene': '43', 'mardem': 33}\n"
     ]
    }
   ],
   "source": [
    "dicionario[\"mardem\"] = 33\n",
    "print(dicionario)"
   ]
  },
  {
   "cell_type": "code",
   "execution_count": 9,
   "metadata": {},
   "outputs": [],
   "source": [
    "# Exercício 8 - Crie um dicionário com 3 chaves e 3 valores. \n",
    "# Um dos valores deve ser uma lista de 2 elementos numéricos. \n",
    "# Imprima o dicionário na tela."
   ]
  },
  {
   "cell_type": "code",
   "execution_count": 21,
   "metadata": {},
   "outputs": [
    {
     "name": "stdin",
     "output_type": "stream",
     "text": [
      "Digite a 1ª chave:  dudu\n",
      "O valor sera unico ou uma lista? Se for lista digite 'L' se for unico digite 'U' l\n",
      "Digite o valor 1º da lista.  20\n",
      "Digite o valor 2º da lista.  23\n",
      "Digite a 2ª chave:  dede\n",
      "O valor sera unico ou uma lista? Se for lista digite 'L' se for unico digite 'U' u\n",
      "Digite o valor da dede.  10\n",
      "Digite a 3ª chave:  kaka\n",
      "O valor sera unico ou uma lista? Se for lista digite 'L' se for unico digite 'U' u\n",
      "Digite o valor da kaka.  9\n"
     ]
    },
    {
     "name": "stdout",
     "output_type": "stream",
     "text": [
      "{'dudu': [20, 23], 'dede': 10, 'kaka': 9}\n"
     ]
    }
   ],
   "source": [
    "dicionario2 = {}\n",
    "\n",
    "\n",
    "for i in range (3):\n",
    "    chave = input(f\"Digite a {i+1}ª chave: \")\n",
    "    pergunta = input(f\"O valor sera unico ou uma lista? Se for lista digite 'L' se for unico digite 'U'\")\n",
    "    if pergunta.upper() == \"L\":\n",
    "        lista = []\n",
    "        for i in range (2):\n",
    "            valor = int(input(f\"Digite o valor {i+1}º da lista. \"))\n",
    "            lista.append(valor)\n",
    "        dicionario2[chave] = lista\n",
    "    else :\n",
    "        valor = int(input(f\"Digite o valor da {chave}. \"))\n",
    "        dicionario2[chave] = valor\n",
    "print(dicionario2)\n",
    "\n",
    "    "
   ]
  },
  {
   "cell_type": "code",
   "execution_count": 10,
   "metadata": {},
   "outputs": [],
   "source": [
    "# Exercício 9 - Crie uma lista de 4 elementos. O primeiro elemento deve ser uma string, \n",
    "# o segundo uma tupla de 2 elementos, o terceiro um dcionário com 2 chaves e 2 valores e \n",
    "# o quarto elemento um valor do tipo float.\n",
    "# Imprima a lista."
   ]
  },
  {
   "cell_type": "code",
   "execution_count": 25,
   "metadata": {},
   "outputs": [
    {
     "name": "stdout",
     "output_type": "stream",
     "text": [
      "--- Bem-vindo ao criador de listas! ---\n",
      "Vamos criar uma lista com 4 elementos de tipos diferentes.\n",
      "\n",
      "--- Elemento 1: String ---\n"
     ]
    },
    {
     "name": "stdin",
     "output_type": "stream",
     "text": [
      "Digite um texto (string):  teste\n"
     ]
    },
    {
     "name": "stdout",
     "output_type": "stream",
     "text": [
      "String adicionada!\n",
      "\n",
      "--- Elemento 2: Tupla com 2 elementos ---\n"
     ]
    },
    {
     "name": "stdin",
     "output_type": "stream",
     "text": [
      "Digite o primeiro elemento da tupla:  t\n",
      "Digite o segundo elemento da tupla:  3\n"
     ]
    },
    {
     "name": "stdout",
     "output_type": "stream",
     "text": [
      "Tupla adicionada!\n",
      "\n",
      "--- Elemento 3: Dicionário com 2 chaves/valores ---\n"
     ]
    },
    {
     "name": "stdin",
     "output_type": "stream",
     "text": [
      "Digite a 1ª chave do dicionário:  t\n",
      "Digite o valor para a chave 't':  1\n",
      "Digite a 2ª chave do dicionário:  t\n",
      "Digite o valor para a chave 't':  2\n"
     ]
    },
    {
     "name": "stdout",
     "output_type": "stream",
     "text": [
      "Dicionário adicionado!\n",
      "\n",
      "--- Elemento 4: Número Decimal (Float) ---\n"
     ]
    },
    {
     "name": "stdin",
     "output_type": "stream",
     "text": [
      "Digite um número com casas decimais (ex: 9.99):  t\n"
     ]
    },
    {
     "name": "stdout",
     "output_type": "stream",
     "text": [
      "Erro: Isso não é um número decimal válido. Tente novamente.\n"
     ]
    },
    {
     "name": "stdin",
     "output_type": "stream",
     "text": [
      "Digite um número com casas decimais (ex: 9.99):  10,2\n"
     ]
    },
    {
     "name": "stdout",
     "output_type": "stream",
     "text": [
      "Erro: Isso não é um número decimal válido. Tente novamente.\n"
     ]
    },
    {
     "name": "stdin",
     "output_type": "stream",
     "text": [
      "Digite um número com casas decimais (ex: 9.99):  -2\n"
     ]
    },
    {
     "name": "stdout",
     "output_type": "stream",
     "text": [
      "Float adicionado!\n",
      "\n",
      "=========================================\n",
      "Parabéns! A sua lista foi criada com sucesso:\n",
      "['teste', ('t', '3'), {'t': '2'}, -2.0]\n",
      "\n",
      "Itens da sua lista:\n",
      "1. String: teste\n",
      "2. Tupla: ('t', '3')\n",
      "3. Dicionário: {'t': '2'}\n",
      "4. Float: -2.0\n"
     ]
    }
   ],
   "source": [
    "# Exercício 9 - Versão Interativa\n",
    "\n",
    "# 1. Começamos com a lista principal vazia\n",
    "lista_final = []\n",
    "\n",
    "print(\"--- Bem-vindo ao criador de listas! ---\")\n",
    "print(\"Vamos criar uma lista com 4 elementos de tipos diferentes.\\n\")\n",
    "\n",
    "# --- PARTE 1: Coletando a String ---\n",
    "print(\"--- Elemento 1: String ---\")\n",
    "string_usuario = input(\"Digite um texto (string): \")\n",
    "lista_final.append(string_usuario)\n",
    "print(\"String adicionada!\\n\")\n",
    "\n",
    "\n",
    "# --- PARTE 2: Coletando a Tupla ---\n",
    "print(\"--- Elemento 2: Tupla com 2 elementos ---\")\n",
    "elem1_tupla = input(\"Digite o primeiro elemento da tupla: \")\n",
    "elem2_tupla = input(\"Digite o segundo elemento da tupla: \")\n",
    "# Criamos a tupla com os dois elementos fornecidos\n",
    "tupla_usuario = (elem1_tupla, elem2_tupla)\n",
    "lista_final.append(tupla_usuario)\n",
    "print(\"Tupla adicionada!\\n\")\n",
    "\n",
    "\n",
    "# --- PARTE 3: Coletando o Dicionário ---\n",
    "print(\"--- Elemento 3: Dicionário com 2 chaves/valores ---\")\n",
    "dicionario_usuario = {}\n",
    "for i in range(2):\n",
    "    chave = input(f\"Digite a {i+1}ª chave do dicionário: \")\n",
    "    valor = input(f\"Digite o valor para a chave '{chave}': \")\n",
    "    dicionario_usuario[chave] = valor\n",
    "lista_final.append(dicionario_usuario)\n",
    "print(\"Dicionário adicionado!\\n\")\n",
    "\n",
    "\n",
    "# --- PARTE 4: Coletando o Float ---\n",
    "print(\"--- Elemento 4: Número Decimal (Float) ---\")\n",
    "# Usamos um loop infinito que só será quebrado quando o usuário digitar um float válido\n",
    "while True:\n",
    "    try:\n",
    "        float_str = input(\"Digite um número com casas decimais (ex: 9.99): \")\n",
    "        float_usuario = float(float_str)\n",
    "        lista_final.append(float_usuario)\n",
    "        print(\"Float adicionado!\\n\")\n",
    "        break # Quebra o loop 'while' se a conversão para float deu certo\n",
    "    except ValueError:\n",
    "        # Este bloco é executado se a conversão float() falhar\n",
    "        print(\"Erro: Isso não é um número decimal válido. Tente novamente.\")\n",
    "\n",
    "# --- IMPRESSÃO FINAL ---\n",
    "print(\"=========================================\")\n",
    "print(\"Parabéns! A sua lista foi criada com sucesso:\")\n",
    "print(lista_final)\n",
    "\n",
    "# Para uma visualização mais clara, podemos imprimir cada item\n",
    "print(\"\\nItens da sua lista:\")\n",
    "print(f\"1. String: {lista_final[0]}\")\n",
    "print(f\"2. Tupla: {lista_final[1]}\")\n",
    "print(f\"3. Dicionário: {lista_final[2]}\")\n",
    "print(f\"4. Float: {lista_final[3]}\")\n",
    "    "
   ]
  },
  {
   "cell_type": "code",
   "execution_count": 24,
   "metadata": {},
   "outputs": [
    {
     "name": "stdout",
     "output_type": "stream",
     "text": [
      "Cientista de Dados\n"
     ]
    }
   ],
   "source": [
    "# Exercício 10 - Considere a string abaixo. Imprima na tela apenas os caracteres da posição 1 a 18.\n",
    "frase = 'Cientista de Dados é o profissional mais sexy do século XXI'\n",
    "\n",
    "print(frase[0:18])"
   ]
  },
  {
   "cell_type": "markdown",
   "metadata": {},
   "source": [
    "# Fim"
   ]
  },
  {
   "cell_type": "markdown",
   "metadata": {},
   "source": [
    "### Obrigado\n",
    "\n",
    "### Visite o Blog da Data Science Academy - <a href=\"http://blog.dsacademy.com.br\">Blog DSA</a>"
   ]
  }
 ],
 "metadata": {
  "kernelspec": {
   "display_name": "Python 3 (ipykernel)",
   "language": "python",
   "name": "python3"
  },
  "language_info": {
   "codemirror_mode": {
    "name": "ipython",
    "version": 3
   },
   "file_extension": ".py",
   "mimetype": "text/x-python",
   "name": "python",
   "nbconvert_exporter": "python",
   "pygments_lexer": "ipython3",
   "version": "3.12.8"
  }
 },
 "nbformat": 4,
 "nbformat_minor": 4
}
