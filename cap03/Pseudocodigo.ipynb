{
 "cells": [
  {
   "cell_type": "markdown",
   "id": "a74e422d-d505-4026-99dd-dbfa3506e48d",
   "metadata": {},
   "source": [
    "Calcular a área de um Paralelograma"
   ]
  },
  {
   "cell_type": "code",
   "execution_count": 2,
   "id": "cda67e65-9b78-4754-a1e6-ab38f3abcc81",
   "metadata": {},
   "outputs": [
    {
     "name": "stdout",
     "output_type": "stream",
     "text": [
      "Bem-vindo ao Calculador de Área de um Paralelograma!\n"
     ]
    },
    {
     "name": "stdin",
     "output_type": "stream",
     "text": [
      "Insira o comprimento da base 10\n",
      "Insira o comprimento da altura 20\n"
     ]
    },
    {
     "name": "stdout",
     "output_type": "stream",
     "text": [
      "A área do seu paralelograma é de: 200.0\n"
     ]
    }
   ],
   "source": [
    "print(\"Bem-vindo ao Calculador de Área de um Paralelograma!\")\n",
    "base = float(input(\"Insira o comprimento da base\"))\n",
    "altura = float(input(\"Insira o comprimento da altura\"))\n",
    "area = base * altura\n",
    "print(f\"A área do seu paralelograma é de: {area}\") \n",
    "    "
   ]
  },
  {
   "cell_type": "markdown",
   "id": "b6941085-42aa-411a-a686-ab4566fa1019",
   "metadata": {},
   "source": []
  },
  {
   "cell_type": "markdown",
   "id": "de5eb102-a902-4cb8-b1b7-580a36ad26f4",
   "metadata": {},
   "source": [
    "*CALCULADORA* *SIMPLES*"
   ]
  },
  {
   "cell_type": "code",
   "execution_count": null,
   "id": "c84eb95c-e9f7-48b4-b301-3780e5651f2d",
   "metadata": {},
   "outputs": [],
   "source": [
    "\n"
   ]
  },
  {
   "cell_type": "code",
   "execution_count": 12,
   "id": "d0f16a5d-80e6-46ad-936f-2cf30c563cd9",
   "metadata": {},
   "outputs": [
    {
     "name": "stdout",
     "output_type": "stream",
     "text": [
      "Bem-vindo a nossa calculadora!\n"
     ]
    },
    {
     "name": "stdin",
     "output_type": "stream",
     "text": [
      "Entre com o 1º numero 5\n",
      "Entre com o 2º numero 5\n",
      "Qual operação você deseja fazer? (+ - * /) -\n"
     ]
    },
    {
     "name": "stdout",
     "output_type": "stream",
     "text": [
      "O resultado é:  0.0\n"
     ]
    }
   ],
   "source": [
    "print (\"Bem-vindo a nossa calculadora!\")\n",
    "n1 = float(input(\"Entre com o 1º numero\"))\n",
    "n2 = float(input(\"Entre com o 2º numero\"))\n",
    "operacao = input(\"Qual operação você deseja fazer? (+ - * /)\")\n",
    "\n",
    "if operacao == \"+\":\n",
    "    resultado = n1+n2\n",
    "    print(\"O resultado é: \" ,n1+n2)\n",
    "elif operacao == \"-\":\n",
    "    print(\"O resultado é: \" ,n1-n2)\n",
    "elif operacao == \"*\":\n",
    "    print(\"O resultado é: \" ,n1*n2)\n",
    "else:\n",
    "    print(\"O resultado é: \" ,n1/n2)"
   ]
  },
  {
   "cell_type": "code",
   "execution_count": null,
   "id": "2eca73c7-d5d0-48f8-a654-f97e0b7fbaaa",
   "metadata": {},
   "outputs": [],
   "source": []
  },
  {
   "cell_type": "markdown",
   "id": "cd24fd10-eccb-48f1-b070-cb0d3280dda8",
   "metadata": {},
   "source": [
    "ALGORITMO BUBBLE SORT"
   ]
  },
  {
   "cell_type": "code",
   "execution_count": 17,
   "id": "3e44ccc0-3775-4961-86fe-7f0a8f8d6b64",
   "metadata": {},
   "outputs": [],
   "source": [
    "lista = [5,2,34,6,78,8,9,12,14,13,10,53,1]"
   ]
  },
  {
   "cell_type": "code",
   "execution_count": 18,
   "id": "0ee8fe3e-ae48-4dd4-b1b6-1dba67a22a1a",
   "metadata": {},
   "outputs": [],
   "source": [
    "def bubble_sort(arr):\n",
    "    \n",
    "    n = len(arr)\n",
    "\n",
    "    # Para cada elemento i do array\n",
    "    for i in range(n):\n",
    "\n",
    "        # Para cada elemento j do array\n",
    "        for j in range(0, n-i-1):\n",
    "\n",
    "            # Se elemento i for maior que elemento j\n",
    "            if arr[j] > arr[j+1]:\n",
    "\n",
    "                # Troque os elementos i e j\n",
    "                arr[j], arr[j+1] = arr[j+1], arr[j]\n",
    "                \n",
    "    return arr"
   ]
  },
  {
   "cell_type": "code",
   "execution_count": 19,
   "id": "70b8993c-e19b-42a0-9c3a-6b744d128de0",
   "metadata": {},
   "outputs": [
    {
     "name": "stdout",
     "output_type": "stream",
     "text": [
      "[1, 2, 5, 6, 8, 9, 10, 12, 13, 14, 34, 53, 78]\n"
     ]
    }
   ],
   "source": [
    "print (bubble_sort(lista))"
   ]
  },
  {
   "cell_type": "code",
   "execution_count": null,
   "id": "573da63f-0ef8-4214-9a45-b786912c828a",
   "metadata": {},
   "outputs": [],
   "source": []
  }
 ],
 "metadata": {
  "kernelspec": {
   "display_name": "Python 3 (ipykernel)",
   "language": "python",
   "name": "python3"
  },
  "language_info": {
   "codemirror_mode": {
    "name": "ipython",
    "version": 3
   },
   "file_extension": ".py",
   "mimetype": "text/x-python",
   "name": "python",
   "nbconvert_exporter": "python",
   "pygments_lexer": "ipython3",
   "version": "3.12.8"
  }
 },
 "nbformat": 4,
 "nbformat_minor": 5
}
